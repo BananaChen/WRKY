{
 "cells": [
  {
   "cell_type": "code",
   "execution_count": 71,
   "metadata": {},
   "outputs": [],
   "source": [
    "import pandas as pd\n",
    "import numpy as np"
   ]
  },
  {
   "cell_type": "code",
   "execution_count": 8,
   "metadata": {},
   "outputs": [],
   "source": [
    "dfp = pd.read_csv('WRKY_info_20190507/WRKY_info_table_positive.csv', sep='\\t')\n",
    "dfn1 = pd.read_csv('WRKY_info_20190507/WRKY_info_table_negative_one.csv', sep='\\t')\n",
    "dfn2 = pd.read_csv('WRKY_info_20190507/WRKY_info_table_negative_two.csv', sep='\\t')\n",
    "dfn3 = pd.read_csv('WRKY_info_20190507/WRKY_info_table_negative_three.csv', sep='\\t')"
   ]
  },
  {
   "cell_type": "code",
   "execution_count": 10,
   "metadata": {
    "scrolled": true
   },
   "outputs": [
    {
     "name": "stdout",
     "output_type": "stream",
     "text": [
      "<class 'pandas.core.frame.DataFrame'>\n",
      "RangeIndex: 26480 entries, 0 to 26479\n",
      "Data columns (total 5 columns):\n",
      "TF_ID        26480 non-null object\n",
      "Pseq_ID      26480 non-null object\n",
      "Pseq         26480 non-null object\n",
      "DBD_seq      26480 non-null object\n",
      "matrix_ID    26480 non-null object\n",
      "dtypes: object(5)\n",
      "memory usage: 1.0+ MB\n"
     ]
    }
   ],
   "source": [
    "dfp.info()"
   ]
  },
  {
   "cell_type": "code",
   "execution_count": 223,
   "metadata": {},
   "outputs": [],
   "source": [
    "col_names = ['matrix_ID', 'alength', 'width', 'nsites', 'E', 'ATCGs']\n",
    "matrices_df = pd.DataFrame(columns=col_names)"
   ]
  },
  {
   "cell_type": "code",
   "execution_count": 224,
   "metadata": {},
   "outputs": [],
   "source": [
    "matricesFile = open('WRKY_info_20190507/All_matrices.txt', 'r')\n",
    "for i in range(8):\n",
    "    matricesFile.readline()"
   ]
  },
  {
   "cell_type": "code",
   "execution_count": 225,
   "metadata": {},
   "outputs": [],
   "source": [
    "while True:\n",
    "    matricesFile.readline()\n",
    "    header = matricesFile.readline().rstrip('\\n')\n",
    "    if len(header) == 0:\n",
    "        break\n",
    "    header = header.split()[1]\n",
    "\n",
    "    matricesFile.readline()\n",
    "    matrix_info = matricesFile.readline()\n",
    "    matrix_info = matrix_info.split()\n",
    "    alength = int(matrix_info[3])\n",
    "    width = int(matrix_info[5])\n",
    "    nsites = int(matrix_info[7])\n",
    "    E = int(matrix_info[9])\n",
    "    \n",
    "    ATCGs = np.zeros((width, 4))\n",
    "    for j in range(width):\n",
    "        nucleotide = matricesFile.readline()\n",
    "        nucleotide = nucleotide.split()\n",
    "        ATCGs[j][0] = float(nucleotide[0])\n",
    "        ATCGs[j][1] = float(nucleotide[1])\n",
    "        ATCGs[j][2] = float(nucleotide[2])\n",
    "        ATCGs[j][3] = float(nucleotide[3])\n",
    "    matrices_df.loc[len(matrices_df)] = [header, alength, width, nsites, E, ATCGs]"
   ]
  },
  {
   "cell_type": "code",
   "execution_count": 229,
   "metadata": {},
   "outputs": [
    {
     "name": "stdout",
     "output_type": "stream",
     "text": [
      "<class 'pandas.core.frame.DataFrame'>\n",
      "Int64Index: 2361 entries, 0 to 2360\n",
      "Data columns (total 6 columns):\n",
      "matrix_ID    2361 non-null object\n",
      "alength      2361 non-null object\n",
      "width        2361 non-null object\n",
      "nsites       2361 non-null object\n",
      "E            2361 non-null object\n",
      "ATCGs        2361 non-null object\n",
      "dtypes: object(6)\n",
      "memory usage: 129.1+ KB\n",
      "None\n"
     ]
    },
    {
     "data": {
      "text/html": [
       "<div>\n",
       "<style scoped>\n",
       "    .dataframe tbody tr th:only-of-type {\n",
       "        vertical-align: middle;\n",
       "    }\n",
       "\n",
       "    .dataframe tbody tr th {\n",
       "        vertical-align: top;\n",
       "    }\n",
       "\n",
       "    .dataframe thead th {\n",
       "        text-align: right;\n",
       "    }\n",
       "</style>\n",
       "<table border=\"1\" class=\"dataframe\">\n",
       "  <thead>\n",
       "    <tr style=\"text-align: right;\">\n",
       "      <th></th>\n",
       "      <th>matrix_ID</th>\n",
       "      <th>alength</th>\n",
       "      <th>width</th>\n",
       "      <th>nsites</th>\n",
       "      <th>E</th>\n",
       "      <th>ATCGs</th>\n",
       "    </tr>\n",
       "  </thead>\n",
       "  <tbody>\n",
       "    <tr>\n",
       "      <th>0</th>\n",
       "      <td>TF_motif_seq_0001</td>\n",
       "      <td>4</td>\n",
       "      <td>10</td>\n",
       "      <td>1</td>\n",
       "      <td>0</td>\n",
       "      <td>[[1.0, 0.0, 0.0, 0.0], [1.0, 0.0, 0.0, 0.0], [...</td>\n",
       "    </tr>\n",
       "    <tr>\n",
       "      <th>1</th>\n",
       "      <td>TF_motif_seq_0002</td>\n",
       "      <td>4</td>\n",
       "      <td>10</td>\n",
       "      <td>1</td>\n",
       "      <td>0</td>\n",
       "      <td>[[1.0, 0.0, 0.0, 0.0], [1.0, 0.0, 0.0, 0.0], [...</td>\n",
       "    </tr>\n",
       "    <tr>\n",
       "      <th>2</th>\n",
       "      <td>TF_motif_seq_0003</td>\n",
       "      <td>4</td>\n",
       "      <td>10</td>\n",
       "      <td>1</td>\n",
       "      <td>0</td>\n",
       "      <td>[[1.0, 0.0, 0.0, 0.0], [1.0, 0.0, 0.0, 0.0], [...</td>\n",
       "    </tr>\n",
       "    <tr>\n",
       "      <th>3</th>\n",
       "      <td>TF_motif_seq_0004</td>\n",
       "      <td>4</td>\n",
       "      <td>10</td>\n",
       "      <td>1</td>\n",
       "      <td>0</td>\n",
       "      <td>[[1.0, 0.0, 0.0, 0.0], [1.0, 0.0, 0.0, 0.0], [...</td>\n",
       "    </tr>\n",
       "    <tr>\n",
       "      <th>4</th>\n",
       "      <td>TF_motif_seq_0005</td>\n",
       "      <td>4</td>\n",
       "      <td>10</td>\n",
       "      <td>1</td>\n",
       "      <td>0</td>\n",
       "      <td>[[1.0, 0.0, 0.0, 0.0], [1.0, 0.0, 0.0, 0.0], [...</td>\n",
       "    </tr>\n",
       "  </tbody>\n",
       "</table>\n",
       "</div>"
      ],
      "text/plain": [
       "           matrix_ID alength width nsites  E  \\\n",
       "0  TF_motif_seq_0001       4    10      1  0   \n",
       "1  TF_motif_seq_0002       4    10      1  0   \n",
       "2  TF_motif_seq_0003       4    10      1  0   \n",
       "3  TF_motif_seq_0004       4    10      1  0   \n",
       "4  TF_motif_seq_0005       4    10      1  0   \n",
       "\n",
       "                                               ATCGs  \n",
       "0  [[1.0, 0.0, 0.0, 0.0], [1.0, 0.0, 0.0, 0.0], [...  \n",
       "1  [[1.0, 0.0, 0.0, 0.0], [1.0, 0.0, 0.0, 0.0], [...  \n",
       "2  [[1.0, 0.0, 0.0, 0.0], [1.0, 0.0, 0.0, 0.0], [...  \n",
       "3  [[1.0, 0.0, 0.0, 0.0], [1.0, 0.0, 0.0, 0.0], [...  \n",
       "4  [[1.0, 0.0, 0.0, 0.0], [1.0, 0.0, 0.0, 0.0], [...  "
      ]
     },
     "execution_count": 229,
     "metadata": {},
     "output_type": "execute_result"
    }
   ],
   "source": [
    "print(matrices_df.info())\n",
    "matrices_df.head()"
   ]
  },
  {
   "cell_type": "code",
   "execution_count": null,
   "metadata": {},
   "outputs": [],
   "source": []
  }
 ],
 "metadata": {
  "kernelspec": {
   "display_name": "Python 3",
   "language": "python",
   "name": "python3"
  },
  "language_info": {
   "codemirror_mode": {
    "name": "ipython",
    "version": 3
   },
   "file_extension": ".py",
   "mimetype": "text/x-python",
   "name": "python",
   "nbconvert_exporter": "python",
   "pygments_lexer": "ipython3",
   "version": "3.7.1"
  },
  "toc": {
   "base_numbering": 1,
   "nav_menu": {},
   "number_sections": true,
   "sideBar": true,
   "skip_h1_title": false,
   "title_cell": "Table of Contents",
   "title_sidebar": "Contents",
   "toc_cell": false,
   "toc_position": {},
   "toc_section_display": true,
   "toc_window_display": false
  }
 },
 "nbformat": 4,
 "nbformat_minor": 2
}
