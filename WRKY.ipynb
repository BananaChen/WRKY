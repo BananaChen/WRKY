{
 "cells": [
  {
   "cell_type": "code",
   "execution_count": 1,
   "metadata": {},
   "outputs": [],
   "source": [
    "import pandas as pd\n",
    "import numpy as np\n",
    "import matplotlib.pyplot as plt"
   ]
  },
  {
   "cell_type": "code",
   "execution_count": 2,
   "metadata": {},
   "outputs": [],
   "source": [
    "pos_df = pd.read_csv('WRKY_info_20190507/WRKY_info_table_positive.csv', sep='\\t')\n",
    "neg1_df = pd.read_csv('WRKY_info_20190507/WRKY_info_table_negative_one.csv', sep='\\t')\n",
    "neg2_df = pd.read_csv('WRKY_info_20190507/WRKY_info_table_negative_two.csv', sep='\\t')\n",
    "neg3_df = pd.read_csv('WRKY_info_20190507/WRKY_info_table_negative_three.csv', sep='\\t')"
   ]
  },
  {
   "cell_type": "code",
   "execution_count": 3,
   "metadata": {},
   "outputs": [],
   "source": [
    "pos_df['is_combined'] = np.ones(len(pos_df)).astype(int)\n",
    "neg1_df['is_combined'] = np.zeros(len(pos_df)).astype(int)\n",
    "neg2_df['is_combined'] = np.zeros(len(pos_df)).astype(int)\n",
    "neg3_df['is_combined'] = np.zeros(len(pos_df)).astype(int)"
   ]
  },
  {
   "cell_type": "code",
   "execution_count": 4,
   "metadata": {
    "scrolled": true
   },
   "outputs": [
    {
     "name": "stdout",
     "output_type": "stream",
     "text": [
      "<class 'pandas.core.frame.DataFrame'>\n",
      "RangeIndex: 26480 entries, 0 to 26479\n",
      "Data columns (total 6 columns):\n",
      "TF_ID          26480 non-null object\n",
      "Pseq_ID        26480 non-null object\n",
      "Pseq           26480 non-null object\n",
      "DBD_seq        26480 non-null object\n",
      "matrix_ID      26480 non-null object\n",
      "is_combined    26480 non-null int64\n",
      "dtypes: int64(1), object(5)\n",
      "memory usage: 1.2+ MB\n",
      "None\n"
     ]
    },
    {
     "data": {
      "text/html": [
       "<div>\n",
       "<style scoped>\n",
       "    .dataframe tbody tr th:only-of-type {\n",
       "        vertical-align: middle;\n",
       "    }\n",
       "\n",
       "    .dataframe tbody tr th {\n",
       "        vertical-align: top;\n",
       "    }\n",
       "\n",
       "    .dataframe thead th {\n",
       "        text-align: right;\n",
       "    }\n",
       "</style>\n",
       "<table border=\"1\" class=\"dataframe\">\n",
       "  <thead>\n",
       "    <tr style=\"text-align: right;\">\n",
       "      <th></th>\n",
       "      <th>TF_ID</th>\n",
       "      <th>Pseq_ID</th>\n",
       "      <th>Pseq</th>\n",
       "      <th>DBD_seq</th>\n",
       "      <th>matrix_ID</th>\n",
       "      <th>is_combined</th>\n",
       "    </tr>\n",
       "  </thead>\n",
       "  <tbody>\n",
       "    <tr>\n",
       "      <th>0</th>\n",
       "      <td>AT1G13960</td>\n",
       "      <td>TFprotseq_12499</td>\n",
       "      <td>MSEKEEAPSTSKSTGAPSRPTLSLPPRPFSEMFFNGGVGFSPGPMT...</td>\n",
       "      <td>ADDGYNWRKYGQKQVKGSEFPRSYYKCTNPGCPVKKKVERSLDGQV...</td>\n",
       "      <td>TF_motif_seq_0270</td>\n",
       "      <td>1</td>\n",
       "    </tr>\n",
       "    <tr>\n",
       "      <th>1</th>\n",
       "      <td>AT1G13960</td>\n",
       "      <td>TFprotseq_12499</td>\n",
       "      <td>MSEKEEAPSTSKSTGAPSRPTLSLPPRPFSEMFFNGGVGFSPGPMT...</td>\n",
       "      <td>ADDGYNWRKYGQKQVKGSEFPRSYYKCTNPGCPVKKKVERSLDGQV...</td>\n",
       "      <td>TF_motif_seq_0339</td>\n",
       "      <td>1</td>\n",
       "    </tr>\n",
       "    <tr>\n",
       "      <th>2</th>\n",
       "      <td>AT1G13960</td>\n",
       "      <td>TFprotseq_12499</td>\n",
       "      <td>MSEKEEAPSTSKSTGAPSRPTLSLPPRPFSEMFFNGGVGFSPGPMT...</td>\n",
       "      <td>ADDGYNWRKYGQKQVKGSEFPRSYYKCTNPGCPVKKKVERSLDGQV...</td>\n",
       "      <td>TFmatrixID_0449</td>\n",
       "      <td>1</td>\n",
       "    </tr>\n",
       "    <tr>\n",
       "      <th>3</th>\n",
       "      <td>AT1G13960</td>\n",
       "      <td>TFprotseq_12499</td>\n",
       "      <td>MSEKEEAPSTSKSTGAPSRPTLSLPPRPFSEMFFNGGVGFSPGPMT...</td>\n",
       "      <td>ADDGYNWRKYGQKQVKGSEFPRSYYKCTNPGCPVKKKVERSLDGQV...</td>\n",
       "      <td>TFmatrixID_0451</td>\n",
       "      <td>1</td>\n",
       "    </tr>\n",
       "    <tr>\n",
       "      <th>4</th>\n",
       "      <td>AT1G13960</td>\n",
       "      <td>TFprotseq_12499</td>\n",
       "      <td>MSEKEEAPSTSKSTGAPSRPTLSLPPRPFSEMFFNGGVGFSPGPMT...</td>\n",
       "      <td>ADDGYNWRKYGQKQVKGSEFPRSYYKCTNPGCPVKKKVERSLDGQV...</td>\n",
       "      <td>TFmatrixID_0465</td>\n",
       "      <td>1</td>\n",
       "    </tr>\n",
       "  </tbody>\n",
       "</table>\n",
       "</div>"
      ],
      "text/plain": [
       "       TF_ID          Pseq_ID  \\\n",
       "0  AT1G13960  TFprotseq_12499   \n",
       "1  AT1G13960  TFprotseq_12499   \n",
       "2  AT1G13960  TFprotseq_12499   \n",
       "3  AT1G13960  TFprotseq_12499   \n",
       "4  AT1G13960  TFprotseq_12499   \n",
       "\n",
       "                                                Pseq  \\\n",
       "0  MSEKEEAPSTSKSTGAPSRPTLSLPPRPFSEMFFNGGVGFSPGPMT...   \n",
       "1  MSEKEEAPSTSKSTGAPSRPTLSLPPRPFSEMFFNGGVGFSPGPMT...   \n",
       "2  MSEKEEAPSTSKSTGAPSRPTLSLPPRPFSEMFFNGGVGFSPGPMT...   \n",
       "3  MSEKEEAPSTSKSTGAPSRPTLSLPPRPFSEMFFNGGVGFSPGPMT...   \n",
       "4  MSEKEEAPSTSKSTGAPSRPTLSLPPRPFSEMFFNGGVGFSPGPMT...   \n",
       "\n",
       "                                             DBD_seq          matrix_ID  \\\n",
       "0  ADDGYNWRKYGQKQVKGSEFPRSYYKCTNPGCPVKKKVERSLDGQV...  TF_motif_seq_0270   \n",
       "1  ADDGYNWRKYGQKQVKGSEFPRSYYKCTNPGCPVKKKVERSLDGQV...  TF_motif_seq_0339   \n",
       "2  ADDGYNWRKYGQKQVKGSEFPRSYYKCTNPGCPVKKKVERSLDGQV...    TFmatrixID_0449   \n",
       "3  ADDGYNWRKYGQKQVKGSEFPRSYYKCTNPGCPVKKKVERSLDGQV...    TFmatrixID_0451   \n",
       "4  ADDGYNWRKYGQKQVKGSEFPRSYYKCTNPGCPVKKKVERSLDGQV...    TFmatrixID_0465   \n",
       "\n",
       "   is_combined  \n",
       "0            1  \n",
       "1            1  \n",
       "2            1  \n",
       "3            1  \n",
       "4            1  "
      ]
     },
     "execution_count": 4,
     "metadata": {},
     "output_type": "execute_result"
    }
   ],
   "source": [
    "print(pos_df.info())\n",
    "pos_df.head()"
   ]
  },
  {
   "cell_type": "code",
   "execution_count": 5,
   "metadata": {},
   "outputs": [],
   "source": [
    "ATCG_1D_list = ['A', 'C', 'G', 'T']\n",
    "ATCG_2D_list = []\n",
    "ATCG_3D_list = []\n",
    "\n",
    "for i in range(4):\n",
    "    for j in range(4):\n",
    "        ATCG_2D_list.append(ATCG_1D_list[i] + ATCG_1D_list[j])\n",
    "        for k in range(4):\n",
    "            ATCG_3D_list.append(ATCG_1D_list[i] + ATCG_1D_list[j] + ATCG_1D_list[k])"
   ]
  },
  {
   "cell_type": "markdown",
   "metadata": {},
   "source": [
    "## Read matrices"
   ]
  },
  {
   "cell_type": "code",
   "execution_count": 6,
   "metadata": {},
   "outputs": [],
   "source": [
    "col_names = ['matrix_ID', 'alength', 'width', 'nsites', 'E', 'ATCG_prob_list', 'DNA_seq'] + ATCG_2D_list + ATCG_3D_list\n",
    "matrices_df = pd.DataFrame(columns=col_names)"
   ]
  },
  {
   "cell_type": "code",
   "execution_count": 7,
   "metadata": {},
   "outputs": [],
   "source": [
    "matricesFile = open('WRKY_info_20190507/All_matrices.txt', 'r')\n",
    "for i in range(8):\n",
    "    matricesFile.readline()"
   ]
  },
  {
   "cell_type": "code",
   "execution_count": 8,
   "metadata": {},
   "outputs": [],
   "source": [
    "# decode index to ATCG character\n",
    "def getATCGchar(index):\n",
    "    if (index == -1):\n",
    "        return '_'\n",
    "    elif (index == 0):\n",
    "        return 'A'\n",
    "    elif (index == 1):\n",
    "        return 'C'\n",
    "    elif (index == 2):\n",
    "        return 'G'\n",
    "    elif (index == 3):\n",
    "        return 'T'"
   ]
  },
  {
   "cell_type": "code",
   "execution_count": null,
   "metadata": {},
   "outputs": [],
   "source": [
    "while True:\n",
    "    # eat empty line\n",
    "    matricesFile.readline()\n",
    "    \n",
    "    # Read matrix header\n",
    "    header = matricesFile.readline().rstrip('\\n')\n",
    "    \n",
    "    # If the header have nothing, it means we are at the EOF, then break and stop reading it\n",
    "    if len(header) == 0:\n",
    "        break\n",
    "    header = header.split()[1]\n",
    "    \n",
    "    # eat empty line\n",
    "    matricesFile.readline()\n",
    "    \n",
    "    # read matrix basic info(alength, width, nsites, E)\n",
    "    matrix_info = matricesFile.readline()\n",
    "    matrix_info = matrix_info.split()\n",
    "    \n",
    "    alength = int(matrix_info[3])\n",
    "    width = int(matrix_info[5])\n",
    "    nsites = int(matrix_info[7])\n",
    "    E = int(matrix_info[9])\n",
    "    \n",
    "    # read DNA sequence(ATCG probability)\n",
    "    ATCG_prob_list = np.zeros((width, 4))\n",
    "    DNA_seq = ''\n",
    "    for j in range(width):\n",
    "        nucleotide = matricesFile.readline()\n",
    "        nucleotide = nucleotide.split()\n",
    "        \n",
    "        # store the posibility of ATCG in every position of DNA sequence into ATCG_prob_list\n",
    "        ATCG_prob_list[j][0] = float(nucleotide[0])\n",
    "        ATCG_prob_list[j][1] = float(nucleotide[1])\n",
    "        ATCG_prob_list[j][2] = float(nucleotide[2])\n",
    "        ATCG_prob_list[j][3] = float(nucleotide[3])\n",
    "        \n",
    "        # Find the max posibility in every position, if prob > 0.5 then choose that one. \n",
    "        # if no prob is > 0.5, then drop that position and store it as '_', which represents empty\n",
    "        max_ATCG = -1\n",
    "        for k in range(4):\n",
    "            if (ATCG_prob_list[j][k] > 0.5):\n",
    "                max_ATCG = k\n",
    "                break\n",
    "        DNA_seq += getATCGchar(max_ATCG)\n",
    "    \n",
    "    # Append each matrix to dataframe\n",
    "    matrices_df.loc[len(matrices_df)] = [header, alength, width, nsites, E, ATCG_prob_list, DNA_seq] + [0] * (4*4 + 4*4*4)"
   ]
  },
  {
   "cell_type": "code",
   "execution_count": null,
   "metadata": {},
   "outputs": [],
   "source": [
    "matricesFile.close()"
   ]
  },
  {
   "cell_type": "code",
   "execution_count": null,
   "metadata": {
    "scrolled": true
   },
   "outputs": [
    {
     "data": {
      "text/html": [
       "<div>\n",
       "<style scoped>\n",
       "    .dataframe tbody tr th:only-of-type {\n",
       "        vertical-align: middle;\n",
       "    }\n",
       "\n",
       "    .dataframe tbody tr th {\n",
       "        vertical-align: top;\n",
       "    }\n",
       "\n",
       "    .dataframe thead th {\n",
       "        text-align: right;\n",
       "    }\n",
       "</style>\n",
       "<table border=\"1\" class=\"dataframe\">\n",
       "  <thead>\n",
       "    <tr style=\"text-align: right;\">\n",
       "      <th></th>\n",
       "      <th>matrix_ID</th>\n",
       "      <th>alength</th>\n",
       "      <th>width</th>\n",
       "      <th>nsites</th>\n",
       "      <th>E</th>\n",
       "      <th>ATCG_prob_list</th>\n",
       "      <th>DNA_seq</th>\n",
       "      <th>AA</th>\n",
       "      <th>AC</th>\n",
       "      <th>AG</th>\n",
       "      <th>...</th>\n",
       "      <th>TCG</th>\n",
       "      <th>TCT</th>\n",
       "      <th>TGA</th>\n",
       "      <th>TGC</th>\n",
       "      <th>TGG</th>\n",
       "      <th>TGT</th>\n",
       "      <th>TTA</th>\n",
       "      <th>TTC</th>\n",
       "      <th>TTG</th>\n",
       "      <th>TTT</th>\n",
       "    </tr>\n",
       "  </thead>\n",
       "  <tbody>\n",
       "    <tr>\n",
       "      <th>0</th>\n",
       "      <td>TF_motif_seq_0001</td>\n",
       "      <td>4</td>\n",
       "      <td>10</td>\n",
       "      <td>1</td>\n",
       "      <td>0</td>\n",
       "      <td>[[1.0, 0.0, 0.0, 0.0], [1.0, 0.0, 0.0, 0.0], [...</td>\n",
       "      <td>AACCTAACCT</td>\n",
       "      <td>0</td>\n",
       "      <td>0</td>\n",
       "      <td>0</td>\n",
       "      <td>...</td>\n",
       "      <td>0</td>\n",
       "      <td>0</td>\n",
       "      <td>0</td>\n",
       "      <td>0</td>\n",
       "      <td>0</td>\n",
       "      <td>0</td>\n",
       "      <td>0</td>\n",
       "      <td>0</td>\n",
       "      <td>0</td>\n",
       "      <td>0</td>\n",
       "    </tr>\n",
       "    <tr>\n",
       "      <th>1</th>\n",
       "      <td>TF_motif_seq_0002</td>\n",
       "      <td>4</td>\n",
       "      <td>10</td>\n",
       "      <td>1</td>\n",
       "      <td>0</td>\n",
       "      <td>[[1.0, 0.0, 0.0, 0.0], [1.0, 0.0, 0.0, 0.0], [...</td>\n",
       "      <td>AACGCGTGTC</td>\n",
       "      <td>0</td>\n",
       "      <td>0</td>\n",
       "      <td>0</td>\n",
       "      <td>...</td>\n",
       "      <td>0</td>\n",
       "      <td>0</td>\n",
       "      <td>0</td>\n",
       "      <td>0</td>\n",
       "      <td>0</td>\n",
       "      <td>0</td>\n",
       "      <td>0</td>\n",
       "      <td>0</td>\n",
       "      <td>0</td>\n",
       "      <td>0</td>\n",
       "    </tr>\n",
       "    <tr>\n",
       "      <th>2</th>\n",
       "      <td>TF_motif_seq_0003</td>\n",
       "      <td>4</td>\n",
       "      <td>10</td>\n",
       "      <td>1</td>\n",
       "      <td>0</td>\n",
       "      <td>[[1.0, 0.0, 0.0, 0.0], [1.0, 0.0, 0.0, 0.0], [...</td>\n",
       "      <td>AAGCGTAAGT</td>\n",
       "      <td>0</td>\n",
       "      <td>0</td>\n",
       "      <td>0</td>\n",
       "      <td>...</td>\n",
       "      <td>0</td>\n",
       "      <td>0</td>\n",
       "      <td>0</td>\n",
       "      <td>0</td>\n",
       "      <td>0</td>\n",
       "      <td>0</td>\n",
       "      <td>0</td>\n",
       "      <td>0</td>\n",
       "      <td>0</td>\n",
       "      <td>0</td>\n",
       "    </tr>\n",
       "    <tr>\n",
       "      <th>3</th>\n",
       "      <td>TF_motif_seq_0004</td>\n",
       "      <td>4</td>\n",
       "      <td>10</td>\n",
       "      <td>1</td>\n",
       "      <td>0</td>\n",
       "      <td>[[1.0, 0.0, 0.0, 0.0], [1.0, 0.0, 0.0, 0.0], [...</td>\n",
       "      <td>AATAAA_AAA</td>\n",
       "      <td>0</td>\n",
       "      <td>0</td>\n",
       "      <td>0</td>\n",
       "      <td>...</td>\n",
       "      <td>0</td>\n",
       "      <td>0</td>\n",
       "      <td>0</td>\n",
       "      <td>0</td>\n",
       "      <td>0</td>\n",
       "      <td>0</td>\n",
       "      <td>0</td>\n",
       "      <td>0</td>\n",
       "      <td>0</td>\n",
       "      <td>0</td>\n",
       "    </tr>\n",
       "    <tr>\n",
       "      <th>4</th>\n",
       "      <td>TF_motif_seq_0005</td>\n",
       "      <td>4</td>\n",
       "      <td>10</td>\n",
       "      <td>1</td>\n",
       "      <td>0</td>\n",
       "      <td>[[1.0, 0.0, 0.0, 0.0], [1.0, 0.0, 0.0, 0.0], [...</td>\n",
       "      <td>AATGGAAATG</td>\n",
       "      <td>0</td>\n",
       "      <td>0</td>\n",
       "      <td>0</td>\n",
       "      <td>...</td>\n",
       "      <td>0</td>\n",
       "      <td>0</td>\n",
       "      <td>0</td>\n",
       "      <td>0</td>\n",
       "      <td>0</td>\n",
       "      <td>0</td>\n",
       "      <td>0</td>\n",
       "      <td>0</td>\n",
       "      <td>0</td>\n",
       "      <td>0</td>\n",
       "    </tr>\n",
       "  </tbody>\n",
       "</table>\n",
       "<p>5 rows × 87 columns</p>\n",
       "</div>"
      ],
      "text/plain": [
       "           matrix_ID alength width nsites  E  \\\n",
       "0  TF_motif_seq_0001       4    10      1  0   \n",
       "1  TF_motif_seq_0002       4    10      1  0   \n",
       "2  TF_motif_seq_0003       4    10      1  0   \n",
       "3  TF_motif_seq_0004       4    10      1  0   \n",
       "4  TF_motif_seq_0005       4    10      1  0   \n",
       "\n",
       "                                      ATCG_prob_list     DNA_seq AA AC AG  \\\n",
       "0  [[1.0, 0.0, 0.0, 0.0], [1.0, 0.0, 0.0, 0.0], [...  AACCTAACCT  0  0  0   \n",
       "1  [[1.0, 0.0, 0.0, 0.0], [1.0, 0.0, 0.0, 0.0], [...  AACGCGTGTC  0  0  0   \n",
       "2  [[1.0, 0.0, 0.0, 0.0], [1.0, 0.0, 0.0, 0.0], [...  AAGCGTAAGT  0  0  0   \n",
       "3  [[1.0, 0.0, 0.0, 0.0], [1.0, 0.0, 0.0, 0.0], [...  AATAAA_AAA  0  0  0   \n",
       "4  [[1.0, 0.0, 0.0, 0.0], [1.0, 0.0, 0.0, 0.0], [...  AATGGAAATG  0  0  0   \n",
       "\n",
       "   ... TCG TCT TGA TGC TGG TGT TTA TTC TTG TTT  \n",
       "0  ...   0   0   0   0   0   0   0   0   0   0  \n",
       "1  ...   0   0   0   0   0   0   0   0   0   0  \n",
       "2  ...   0   0   0   0   0   0   0   0   0   0  \n",
       "3  ...   0   0   0   0   0   0   0   0   0   0  \n",
       "4  ...   0   0   0   0   0   0   0   0   0   0  \n",
       "\n",
       "[5 rows x 87 columns]"
      ]
     },
     "execution_count": 11,
     "metadata": {},
     "output_type": "execute_result"
    }
   ],
   "source": [
    "# print(matrices_df.info())\n",
    "matrices_df.head()"
   ]
  },
  {
   "cell_type": "code",
   "execution_count": null,
   "metadata": {},
   "outputs": [
    {
     "name": "stderr",
     "output_type": "stream",
     "text": [
      "/Library/Frameworks/Python.framework/Versions/3.7/lib/python3.7/site-packages/ipykernel_launcher.py:4: SettingWithCopyWarning: \n",
      "A value is trying to be set on a copy of a slice from a DataFrame\n",
      "\n",
      "See the caveats in the documentation: http://pandas.pydata.org/pandas-docs/stable/indexing.html#indexing-view-versus-copy\n",
      "  after removing the cwd from sys.path.\n"
     ]
    }
   ],
   "source": [
    "for i in range(len(matrices_df)):\n",
    "    for nucleo in ATCG_2D_list + ATCG_3D_list:\n",
    "        if (nucleo in matrices_df.iloc[i]['DNA_seq']):\n",
    "            matrices_df.iloc[i][nucleo] = 1"
   ]
  },
  {
   "cell_type": "markdown",
   "metadata": {},
   "source": [
    "## join pos dataset with matrices_df by matrix_ID"
   ]
  },
  {
   "cell_type": "code",
   "execution_count": null,
   "metadata": {},
   "outputs": [],
   "source": [
    "merged_pos_df = pd.merge(pos_df, matrices_df)\n",
    "merged_pos_df.head(10)"
   ]
  },
  {
   "cell_type": "code",
   "execution_count": null,
   "metadata": {},
   "outputs": [],
   "source": [
    "pos_ATCG_sum_dict = merged_pos_df.loc[ : , ATCG_2D_list + ATCG_3D_list].sum()/len(pos_df)"
   ]
  },
  {
   "cell_type": "code",
   "execution_count": null,
   "metadata": {},
   "outputs": [],
   "source": [
    "sorted(pos_ATCG_sum_dict.items(), key=lambda d: d[1], reverse=True)"
   ]
  },
  {
   "cell_type": "code",
   "execution_count": null,
   "metadata": {},
   "outputs": [],
   "source": [
    "plt.figure(figsize=(20,10))\n",
    "plt.bar(range(len(pos_ATCG_sum_dict)), list(pos_ATCG_sum_dict.values()), align='center')\n",
    "plt.xticks(range(len(pos_ATCG_sum_dict)), list(pos_ATCG_sum_dict.keys()))\n",
    "plt.show()"
   ]
  },
  {
   "cell_type": "code",
   "execution_count": null,
   "metadata": {},
   "outputs": [],
   "source": [
    "merged_neg1_df = pd.merge(neg1_df, matrices_df)\n",
    "merged_neg2_df = pd.merge(neg2_df, matrices_df)\n",
    "merged_neg3_df = pd.merge(neg3_df, matrices_df)"
   ]
  },
  {
   "cell_type": "code",
   "execution_count": null,
   "metadata": {},
   "outputs": [],
   "source": [
    "neg1_ATCG_sum_dict = merged_neg1_df.loc[ : , ATCG_2D_list + ATCG_3D_list].sum()/len(neg1_df)\n",
    "neg2_ATCG_sum_dict = merged_neg2_df.loc[ : , ATCG_2D_list + ATCG_3D_list].sum()/len(neg2_df)\n",
    "neg3_ATCG_sum_dict = merged_neg3_df.loc[ : , ATCG_2D_list + ATCG_3D_list].sum()/len(neg3_df)"
   ]
  },
  {
   "cell_type": "code",
   "execution_count": null,
   "metadata": {
    "scrolled": true
   },
   "outputs": [],
   "source": [
    "print(sorted(neg1_ATCG_sum_dict.items(), key=lambda d: d[1], reverse=True), end='\\n\\n')\n",
    "print(sorted(neg2_ATCG_sum_dict.items(), key=lambda d: d[1], reverse=True), end='\\n\\n')\n",
    "print(sorted(neg3_ATCG_sum_dict.items(), key=lambda d: d[1], reverse=True), end='\\n\\n')"
   ]
  },
  {
   "cell_type": "markdown",
   "metadata": {},
   "source": [
    "# K means"
   ]
  },
  {
   "cell_type": "code",
   "execution_count": null,
   "metadata": {},
   "outputs": [],
   "source": [
    "#接下來匯入KMeans函式庫\n",
    "from sklearn.cluster import KMeans\n",
    "\n",
    "#請KMeans分成三類\n",
    "clf = KMeans(n_clusters=15)\n",
    "\n",
    "#開始訓練！\n",
    "clf.fit(merged_pos_df.loc[ : , ATCG_2D_list + ATCG_3D_list])\n",
    "\n",
    "#這樣就可以取得預測結果了！\n",
    "clf.labels_"
   ]
  },
  {
   "cell_type": "code",
   "execution_count": null,
   "metadata": {},
   "outputs": [],
   "source": [
    "allData_df = merged_pos_df"
   ]
  },
  {
   "cell_type": "code",
   "execution_count": null,
   "metadata": {},
   "outputs": [],
   "source": [
    "allData_df = allData_df.append([merged_neg1_df, merged_neg3_df], ignore_index=True)"
   ]
  },
  {
   "cell_type": "code",
   "execution_count": null,
   "metadata": {},
   "outputs": [],
   "source": [
    "from sklearn.model_selection import train_test_split\n",
    "\n",
    "y = allData_df['is_combined']\n",
    "X_train, X_test, y_train, y_test = train_test_split(allData_df.drop(columns=['is_combined', 'DNA_seq']), y, test_size=0.1)\n"
   ]
  }
 ],
 "metadata": {
  "kernelspec": {
   "display_name": "Python 3",
   "language": "python",
   "name": "python3"
  },
  "language_info": {
   "codemirror_mode": {
    "name": "ipython",
    "version": 3
   },
   "file_extension": ".py",
   "mimetype": "text/x-python",
   "name": "python",
   "nbconvert_exporter": "python",
   "pygments_lexer": "ipython3",
   "version": "3.7.1"
  },
  "toc": {
   "base_numbering": 1,
   "nav_menu": {},
   "number_sections": true,
   "sideBar": true,
   "skip_h1_title": false,
   "title_cell": "Table of Contents",
   "title_sidebar": "Contents",
   "toc_cell": false,
   "toc_position": {},
   "toc_section_display": true,
   "toc_window_display": false
  }
 },
 "nbformat": 4,
 "nbformat_minor": 2
}
